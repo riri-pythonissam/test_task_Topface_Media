{
 "cells": [
  {
   "cell_type": "markdown",
   "id": "37beba7c-d4e3-4328-a40e-ea6007b3756f",
   "metadata": {},
   "source": [
    "***1.Вопросы:***\n",
    "\n",
    "1) 3\n",
    "\n",
    "2) 4"
   ]
  },
  {
   "cell_type": "markdown",
   "id": "6bbf4539-c4c2-4bad-b765-b8757d0112d2",
   "metadata": {},
   "source": [
    "***2. Задачи на логику:***\n",
    "\n",
    "1) Остаток: $$40*0.5*0.2 = 4$$\n",
    "\n",
    "2) Затраты одной кампании в час: $${120\\over 24*6*5} = 0.16(6)$$ Искомое количество дней: $${216\\over 0.16(6)*9*8} = 18$$\n",
    "\n",
    "3) Было ипсользовано 120 рекламных баннеров. В кампании №1 использовано - 60, в кампании №2 - 45, в обеих кампаниях - 15.\n",
    "\n",
    "4) У Кейт и Джона предпочтения совпадают.\n",
    "\n",
    "|          | Instagram | Facebook | YouTube |\n",
    "|----------|-----------|----------|---------|\n",
    "| Энн      | +         | -        | (+)     |\n",
    "| **Джон** | **(-)**   | **+**    | **+**   |\n",
    "| **Кейт** | **-**     | **(+)**  | **+**   |\n",
    "| Том      | (+)       | +        | -       |\n",
    "\n",
    "5) Необходимая оценка за модуль №5: $$80 = {4*78 + x\\over 5}$$ $$x = 88$$ \n",
    "\n",
    "6) Время в минутах на дорогу туда: $${260\\over 80}*60 = 195$$ Время в минутах на дорогу обратно: $${260\\over 100}*60 = 156$$ Обратный путь быстрее на 39 минут."
   ]
  },
  {
   "cell_type": "markdown",
   "id": "8020f74f-d743-4df5-8567-492d54e3e117",
   "metadata": {
    "tags": []
   },
   "source": [
    "***3.Техническое задание***"
   ]
  },
  {
   "cell_type": "code",
   "execution_count": 73,
   "id": "dc3cc8fd-84bd-4726-be59-81c5585ec5c7",
   "metadata": {
    "tags": []
   },
   "outputs": [],
   "source": [
    "import pandas as pd\n",
    "import numpy as np\n",
    "import matplotlib.pyplot as plt"
   ]
  },
  {
   "cell_type": "code",
   "execution_count": 62,
   "id": "4ee3ffd6-9e22-48d9-a276-291b14b23500",
   "metadata": {},
   "outputs": [],
   "source": [
    "df = pd.read_excel(\"data.xlsx\")"
   ]
  },
  {
   "cell_type": "markdown",
   "id": "2bbf10c2-1c01-4ab4-b8f8-c6aa1bbd9ee4",
   "metadata": {},
   "source": [
    "1. Выручка за июль"
   ]
  },
  {
   "cell_type": "code",
   "execution_count": 61,
   "id": "8c419926-5888-4a47-a462-9e6c29a37d1d",
   "metadata": {},
   "outputs": [
    {
     "name": "stdout",
     "output_type": "stream",
     "text": [
      "Выручка за июль: 859896.47\n"
     ]
    }
   ],
   "source": [
    "july = df._slice(slice(df.loc[(df['status'] =='Июль 2021')].iloc[0].name, df.loc[(df['status'] =='Август 2021')].iloc[0].name))\n",
    "total = july.loc[july['status'] == 'ОПЛАЧЕНО', 'sum'].sum().round(2)\n",
    "print(f'Выручка за июль: {total}')"
   ]
  },
  {
   "cell_type": "markdown",
   "id": "b34568c8-f5f9-451f-8eef-071836dbe55e",
   "metadata": {
    "tags": []
   },
   "source": [
    "2. Динамика выручки за период май-октябрь"
   ]
  },
  {
   "cell_type": "code",
   "execution_count": 132,
   "id": "cc251e88-a2d6-4f49-bddd-a013f857cb88",
   "metadata": {},
   "outputs": [
    {
     "data": {
      "image/png": "[encoded data removed]",
      "text/plain": [
       "<Figure size 432x288 with 1 Axes>"
      ]
     },
     "metadata": {
      "needs_background": "light"
     },
     "output_type": "display_data"
    }
   ],
   "source": [
    "may = df._slice(slice(df.loc[(df['status'] =='Май 2021')].iloc[0].name, df.loc[(df['status'] =='Июнь 2021')].iloc[0].name))\n",
    "total_may = may.loc[may['status'] == 'ОПЛАЧЕНО', 'sum'].sum().round(2)\n",
    "\n",
    "june = df._slice(slice(df.loc[(df['status'] =='Июнь 2021')].iloc[0].name, df.loc[(df['status'] =='Июль 2021')].iloc[0].name))\n",
    "total_june = june.loc[june['status'] == 'ОПЛАЧЕНО', 'sum'].sum().round(2)\n",
    "\n",
    "july = df._slice(slice(df.loc[(df['status'] =='Июль 2021')].iloc[0].name, df.loc[(df['status'] =='Август 2021')].iloc[0].name))\n",
    "total_july = july.loc[july['status'] == 'ОПЛАЧЕНО', 'sum'].sum().round(2)\n",
    "\n",
    "august = df._slice(slice(df.loc[(df['status'] =='Август 2021')].iloc[0].name, df.loc[(df['status'] =='Сентябрь 2021')].iloc[0].name))\n",
    "total_august = august.loc[august['status'] == 'ОПЛАЧЕНО', 'sum'].sum().round(2)\n",
    "\n",
    "september = df._slice(slice(df.loc[(df['status'] =='Сентябрь 2021')].iloc[0].name, df.loc[(df['status'] =='Октябрь 2021')].iloc[0].name))\n",
    "total_september = september.loc[september['status'] == 'ОПЛАЧЕНО', 'sum'].sum().round(2)\n",
    "\n",
    "october = df.iloc[df.loc[(df['status'] =='Октябрь 2021')].iloc[0].name:]\n",
    "total_october = october.loc[october['status'] == 'ОПЛАЧЕНО', 'sum'].sum().round(2)\n",
    "\n",
    "\n",
    "fig = plt.figure()\n",
    "ax = fig.add_axes([0,0,1,1])\n",
    "months = ['Май', 'Июнь', 'Июль', 'Август', 'Сентябрь', 'Октябрь']\n",
    "proceeds = [total_may, total_june, total_july, total_august, total_september, total_october]\n",
    "ax.bar(months, proceeds)\n",
    "ax.set_title('Динамика выручки май-октябрь')\n",
    "plt.show()"
   ]
  },
  {
   "cell_type": "markdown",
   "id": "c0d5a6d9-6160-4dff-b43c-8c72357256ba",
   "metadata": {
    "tags": []
   },
   "source": [
    "3. Менеджер, привлекший большую выручку за сентябрь 2021"
   ]
  },
  {
   "cell_type": "code",
   "execution_count": 157,
   "id": "7854f1a0-db9f-4b82-81d3-41b2ccc2d46d",
   "metadata": {},
   "outputs": [
    {
     "data": {
      "image/png": "[encoded data removed]",
      "text/plain": [
       "<Figure size 432x288 with 1 Axes>"
      ]
     },
     "metadata": {
      "needs_background": "light"
     },
     "output_type": "display_data"
    },
    {
     "name": "stdout",
     "output_type": "stream",
     "text": [
      "Менеджер, привлекший большую выручку за сентябрь 2021: Смирнов\n"
     ]
    }
   ],
   "source": [
    "sale = september.loc[september['status'] == 'ОПЛАЧЕНО'].groupby('sale')['sum'].sum()\n",
    "fig = plt.figure()\n",
    "ax = fig.add_axes([0,0,1.5,1.5])\n",
    "ax.bar(sale.index, sale.values)\n",
    "ax.set_title('Выручка каждого менеджера за сентябрь 2021')\n",
    "plt.show()\n",
    "print(f'Менеджер, привлекший большую выручку за сентябрь 2021: {sale.idxmax()}')"
   ]
  },
  {
   "cell_type": "markdown",
   "id": "844be85d-4985-407b-9a42-ab0583404a89",
   "metadata": {},
   "source": []
  },
  {
   "cell_type": "code",
   "execution_count": null,
   "id": "668bbcd8-2093-4bd0-9a41-6b3c855c2dcb",
   "metadata": {},
   "outputs": [],
   "source": []
  }
 ],
 "metadata": {
  "kernelspec": {
   "display_name": "Python 3 (ipykernel)",
   "language": "python",
   "name": "python3"
  },
  "language_info": {
   "codemirror_mode": {
    "name": "ipython",
    "version": 3
   },
   "file_extension": ".py",
   "mimetype": "text/x-python",
   "name": "python",
   "nbconvert_exporter": "python",
   "pygments_lexer": "ipython3",
   "version": "3.8.8"
  }
 },
 "nbformat": 4,
 "nbformat_minor": 5
}
