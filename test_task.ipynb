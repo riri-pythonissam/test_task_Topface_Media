{
 "cells": [
  {
   "cell_type": "markdown",
   "id": "37beba7c-d4e3-4328-a40e-ea6007b3756f",
   "metadata": {},
   "source": [
    "***1.Вопросы:***\n",
    "\n",
    "1) 3\n",
    "\n",
    "2) 4"
   ]
  },
  {
   "cell_type": "markdown",
   "id": "6bbf4539-c4c2-4bad-b765-b8757d0112d2",
   "metadata": {},
   "source": [
    "***2. Задачи на логику:***\n",
    "\n",
    "1) Остаток: $$40*0.5*0.2 = 4$$\n",
    "\n",
    "2) Затраты одной кампании в час: $${120\\over 24*6*5} = 0.16(6)$$ Искомое количество дней: $${216\\over 0.16(6)*9*8} = 18$$\n",
    "\n",
    "3) Было ипсользовано 120 рекламных баннеров. В кампании №1 использовано - 60, в кампании №2 - 45, в обеих кампаниях - 15.\n",
    "\n",
    "4) У Кейт и Джона предпочтения совпадают.\n",
    "\n",
    "|          | instagram | facebook | youtube |\n",
    "|----------|-----------|----------|---------|\n",
    "| Энн      | +         | -        | (+)     |\n",
    "| **Джон** | **(-)**   | **+**    | **+**   |\n",
    "| **Кейт** | **-**     | **(+)**  | **+**   |\n",
    "| Том      | (+)       | +        | -       |\n",
    "\n",
    "5) Необходимая оценка за модуль №5: $$80 = {4*78 + x\\over 5}$$ $$x = 88$$ \n",
    "\n",
    "6) Время в минутах на дорогу туда: $${260\\over 80}*60 = 195$$ Время в минутах на дорогу обратно: $${260\\over 100}*60 = 156$$ Обратный путь быстрее на 39 минут."
   ]
  },
  {
   "cell_type": "code",
   "execution_count": null,
   "id": "a17bb994-a478-48bc-8c25-a03361ce716c",
   "metadata": {},
   "outputs": [],
   "source": []
  },
  {
   "cell_type": "code",
   "execution_count": null,
   "id": "dc3cc8fd-84bd-4726-be59-81c5585ec5c7",
   "metadata": {},
   "outputs": [],
   "source": []
  },
  {
   "cell_type": "code",
   "execution_count": null,
   "id": "4ee3ffd6-9e22-48d9-a276-291b14b23500",
   "metadata": {},
   "outputs": [],
   "source": []
  },
  {
   "cell_type": "code",
   "execution_count": null,
   "id": "8c419926-5888-4a47-a462-9e6c29a37d1d",
   "metadata": {},
   "outputs": [],
   "source": []
  },
  {
   "cell_type": "code",
   "execution_count": null,
   "id": "d73e7485-ea94-49e5-b9fe-b225a550e93e",
   "metadata": {},
   "outputs": [],
   "source": []
  },
  {
   "cell_type": "code",
   "execution_count": null,
   "id": "cc251e88-a2d6-4f49-bddd-a013f857cb88",
   "metadata": {},
   "outputs": [],
   "source": []
  },
  {
   "cell_type": "code",
   "execution_count": null,
   "id": "7854f1a0-db9f-4b82-81d3-41b2ccc2d46d",
   "metadata": {},
   "outputs": [],
   "source": []
  }
 ],
 "metadata": {
  "kernelspec": {
   "display_name": "Python 3 (ipykernel)",
   "language": "python",
   "name": "python3"
  },
  "language_info": {
   "codemirror_mode": {
    "name": "ipython",
    "version": 3
   },
   "file_extension": ".py",
   "mimetype": "text/x-python",
   "name": "python",
   "nbconvert_exporter": "python",
   "pygments_lexer": "ipython3",
   "version": "3.8.8"
  }
 },
 "nbformat": 4,
 "nbformat_minor": 5
}
